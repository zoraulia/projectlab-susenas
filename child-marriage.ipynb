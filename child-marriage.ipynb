{
 "cells": [
  {
   "cell_type": "markdown",
   "metadata": {},
   "source": [
    "# Child Marriage Factors in Indonesia 2012-2013"
   ]
  },
  {
   "cell_type": "markdown",
   "metadata": {},
   "source": [
    "__Created by: Zoraidha Aulia__"
   ]
  },
  {
   "cell_type": "markdown",
   "metadata": {},
   "source": [
    "## Read Data"
   ]
  },
  {
   "cell_type": "code",
   "execution_count": 3,
   "metadata": {},
   "outputs": [],
   "source": [
    "import pandas as pd\n",
    "import numpy as np\n",
    "import datetime as dt\n",
    "import matplotlib.pyplot as plt\n",
    "import statsmodels.api as sm\n",
    "import os\n",
    "import random"
   ]
  },
  {
   "cell_type": "code",
   "execution_count": 4,
   "metadata": {},
   "outputs": [],
   "source": [
    "# Susenas 2013\n",
    "sus13_ki = pd.read_csv('susenas13/sn13_ki.csv')\n",
    "sus13_kr = pd.read_csv('susenas13/sn13_krt.csv')"
   ]
  },
  {
   "cell_type": "code",
   "execution_count": 5,
   "metadata": {},
   "outputs": [],
   "source": [
    "# Layout Sus13\n",
    "xlsus13_kir = pd.ExcelFile('susenas13/Layout -- Susenas 2013 Q1 Kor.xls')"
   ]
  },
  {
   "cell_type": "code",
   "execution_count": 6,
   "metadata": {},
   "outputs": [],
   "source": [
    "# Variabel dan Label 2013\n",
    "var_ki13 = pd.read_excel('susenas13/Layout -- Susenas 2013 Q1 Kor.xls', sheet_name='KOR_Ind')\n",
    "label_ki13 = pd.read_excel('susenas13/Layout -- Susenas 2013 Q1 Kor.xls', sheet_name='LABEL_Ind')"
   ]
  },
  {
   "cell_type": "code",
   "execution_count": 7,
   "metadata": {},
   "outputs": [
    {
     "output_type": "execute_result",
     "data": {
      "text/plain": [
       "        Unnamed: 0          urut  b1r1  b1r5     b1r7  b1r8  nart  triwulan  \\\n",
       "0                0  2.750231e+07    11     1  2500210     1     1         1   \n",
       "1                1  2.750231e+07    11     1  2500210     1     2         1   \n",
       "2                2  2.750231e+07    11     1  2500210     1     3         1   \n",
       "3                3  2.750231e+07    11     1  2500210     1     4         1   \n",
       "4                4  2.750231e+07    11     1  2500210     1     5         1   \n",
       "...            ...           ...   ...   ...      ...   ...   ...       ...   \n",
       "274046      274046  2.403726e+11    94     2  2000904     9     3         1   \n",
       "274047      274047  2.403726e+11    94     2  2000904     9     4         1   \n",
       "274048      274048  2.403726e+11    94     2  2000904     9     5         1   \n",
       "274049      274049  2.670807e+11    94     2  2000904    10     1         1   \n",
       "274050      274050  2.670807e+11    94     2  2000904    10     2         1   \n",
       "\n",
       "        hb  jk  ...  b5r34c1  b5r34c2  b5r34c3  b5r35  b5r36  b5r37  b5r38  \\\n",
       "0        1   1  ...      NaN      NaN      NaN    NaN    NaN    NaN    NaN   \n",
       "1        2   2  ...      0.0      0.0      0.0    1.0    5.0    NaN    NaN   \n",
       "2        3   1  ...      NaN      NaN      NaN    NaN    NaN    NaN    NaN   \n",
       "3        3   2  ...      NaN      NaN      NaN    NaN    NaN    NaN    NaN   \n",
       "4        3   2  ...      NaN      NaN      NaN    NaN    NaN    NaN    NaN   \n",
       "...     ..  ..  ...      ...      ...      ...    ...    ...    ...    ...   \n",
       "274046   3   1  ...      NaN      NaN      NaN    NaN    NaN    NaN    NaN   \n",
       "274047   3   2  ...      NaN      NaN      NaN    NaN    NaN    NaN    NaN   \n",
       "274048   6   2  ...      0.0      0.0      0.0    2.0    NaN    3.0    1.0   \n",
       "274049   1   1  ...      NaN      NaN      NaN    NaN    NaN    NaN    NaN   \n",
       "274050   2   2  ...      1.0      0.0      1.0    2.0    NaN    3.0    1.0   \n",
       "\n",
       "        b5r38l       exp_cap      weind  \n",
       "0          NaN  3.613396e+05  328.76685  \n",
       "1          NaN  3.613396e+05  328.76685  \n",
       "2          NaN  3.613396e+05  328.76685  \n",
       "3          NaN  3.613396e+05  328.76685  \n",
       "4          NaN  3.613396e+05  328.76685  \n",
       "...        ...           ...        ...  \n",
       "274046     NaN  8.720819e+05  593.98126  \n",
       "274047     NaN  8.720819e+05  593.98126  \n",
       "274048     NaN  8.720819e+05  593.98126  \n",
       "274049     NaN  1.560233e+06  494.19986  \n",
       "274050     NaN  1.560233e+06  494.19986  \n",
       "\n",
       "[274051 rows x 127 columns]"
      ],
      "text/html": "<div>\n<style scoped>\n    .dataframe tbody tr th:only-of-type {\n        vertical-align: middle;\n    }\n\n    .dataframe tbody tr th {\n        vertical-align: top;\n    }\n\n    .dataframe thead th {\n        text-align: right;\n    }\n</style>\n<table border=\"1\" class=\"dataframe\">\n  <thead>\n    <tr style=\"text-align: right;\">\n      <th></th>\n      <th>Unnamed: 0</th>\n      <th>urut</th>\n      <th>b1r1</th>\n      <th>b1r5</th>\n      <th>b1r7</th>\n      <th>b1r8</th>\n      <th>nart</th>\n      <th>triwulan</th>\n      <th>hb</th>\n      <th>jk</th>\n      <th>...</th>\n      <th>b5r34c1</th>\n      <th>b5r34c2</th>\n      <th>b5r34c3</th>\n      <th>b5r35</th>\n      <th>b5r36</th>\n      <th>b5r37</th>\n      <th>b5r38</th>\n      <th>b5r38l</th>\n      <th>exp_cap</th>\n      <th>weind</th>\n    </tr>\n  </thead>\n  <tbody>\n    <tr>\n      <th>0</th>\n      <td>0</td>\n      <td>2.750231e+07</td>\n      <td>11</td>\n      <td>1</td>\n      <td>2500210</td>\n      <td>1</td>\n      <td>1</td>\n      <td>1</td>\n      <td>1</td>\n      <td>1</td>\n      <td>...</td>\n      <td>NaN</td>\n      <td>NaN</td>\n      <td>NaN</td>\n      <td>NaN</td>\n      <td>NaN</td>\n      <td>NaN</td>\n      <td>NaN</td>\n      <td>NaN</td>\n      <td>3.613396e+05</td>\n      <td>328.76685</td>\n    </tr>\n    <tr>\n      <th>1</th>\n      <td>1</td>\n      <td>2.750231e+07</td>\n      <td>11</td>\n      <td>1</td>\n      <td>2500210</td>\n      <td>1</td>\n      <td>2</td>\n      <td>1</td>\n      <td>2</td>\n      <td>2</td>\n      <td>...</td>\n      <td>0.0</td>\n      <td>0.0</td>\n      <td>0.0</td>\n      <td>1.0</td>\n      <td>5.0</td>\n      <td>NaN</td>\n      <td>NaN</td>\n      <td>NaN</td>\n      <td>3.613396e+05</td>\n      <td>328.76685</td>\n    </tr>\n    <tr>\n      <th>2</th>\n      <td>2</td>\n      <td>2.750231e+07</td>\n      <td>11</td>\n      <td>1</td>\n      <td>2500210</td>\n      <td>1</td>\n      <td>3</td>\n      <td>1</td>\n      <td>3</td>\n      <td>1</td>\n      <td>...</td>\n      <td>NaN</td>\n      <td>NaN</td>\n      <td>NaN</td>\n      <td>NaN</td>\n      <td>NaN</td>\n      <td>NaN</td>\n      <td>NaN</td>\n      <td>NaN</td>\n      <td>3.613396e+05</td>\n      <td>328.76685</td>\n    </tr>\n    <tr>\n      <th>3</th>\n      <td>3</td>\n      <td>2.750231e+07</td>\n      <td>11</td>\n      <td>1</td>\n      <td>2500210</td>\n      <td>1</td>\n      <td>4</td>\n      <td>1</td>\n      <td>3</td>\n      <td>2</td>\n      <td>...</td>\n      <td>NaN</td>\n      <td>NaN</td>\n      <td>NaN</td>\n      <td>NaN</td>\n      <td>NaN</td>\n      <td>NaN</td>\n      <td>NaN</td>\n      <td>NaN</td>\n      <td>3.613396e+05</td>\n      <td>328.76685</td>\n    </tr>\n    <tr>\n      <th>4</th>\n      <td>4</td>\n      <td>2.750231e+07</td>\n      <td>11</td>\n      <td>1</td>\n      <td>2500210</td>\n      <td>1</td>\n      <td>5</td>\n      <td>1</td>\n      <td>3</td>\n      <td>2</td>\n      <td>...</td>\n      <td>NaN</td>\n      <td>NaN</td>\n      <td>NaN</td>\n      <td>NaN</td>\n      <td>NaN</td>\n      <td>NaN</td>\n      <td>NaN</td>\n      <td>NaN</td>\n      <td>3.613396e+05</td>\n      <td>328.76685</td>\n    </tr>\n    <tr>\n      <th>...</th>\n      <td>...</td>\n      <td>...</td>\n      <td>...</td>\n      <td>...</td>\n      <td>...</td>\n      <td>...</td>\n      <td>...</td>\n      <td>...</td>\n      <td>...</td>\n      <td>...</td>\n      <td>...</td>\n      <td>...</td>\n      <td>...</td>\n      <td>...</td>\n      <td>...</td>\n      <td>...</td>\n      <td>...</td>\n      <td>...</td>\n      <td>...</td>\n      <td>...</td>\n      <td>...</td>\n    </tr>\n    <tr>\n      <th>274046</th>\n      <td>274046</td>\n      <td>2.403726e+11</td>\n      <td>94</td>\n      <td>2</td>\n      <td>2000904</td>\n      <td>9</td>\n      <td>3</td>\n      <td>1</td>\n      <td>3</td>\n      <td>1</td>\n      <td>...</td>\n      <td>NaN</td>\n      <td>NaN</td>\n      <td>NaN</td>\n      <td>NaN</td>\n      <td>NaN</td>\n      <td>NaN</td>\n      <td>NaN</td>\n      <td>NaN</td>\n      <td>8.720819e+05</td>\n      <td>593.98126</td>\n    </tr>\n    <tr>\n      <th>274047</th>\n      <td>274047</td>\n      <td>2.403726e+11</td>\n      <td>94</td>\n      <td>2</td>\n      <td>2000904</td>\n      <td>9</td>\n      <td>4</td>\n      <td>1</td>\n      <td>3</td>\n      <td>2</td>\n      <td>...</td>\n      <td>NaN</td>\n      <td>NaN</td>\n      <td>NaN</td>\n      <td>NaN</td>\n      <td>NaN</td>\n      <td>NaN</td>\n      <td>NaN</td>\n      <td>NaN</td>\n      <td>8.720819e+05</td>\n      <td>593.98126</td>\n    </tr>\n    <tr>\n      <th>274048</th>\n      <td>274048</td>\n      <td>2.403726e+11</td>\n      <td>94</td>\n      <td>2</td>\n      <td>2000904</td>\n      <td>9</td>\n      <td>5</td>\n      <td>1</td>\n      <td>6</td>\n      <td>2</td>\n      <td>...</td>\n      <td>0.0</td>\n      <td>0.0</td>\n      <td>0.0</td>\n      <td>2.0</td>\n      <td>NaN</td>\n      <td>3.0</td>\n      <td>1.0</td>\n      <td>NaN</td>\n      <td>8.720819e+05</td>\n      <td>593.98126</td>\n    </tr>\n    <tr>\n      <th>274049</th>\n      <td>274049</td>\n      <td>2.670807e+11</td>\n      <td>94</td>\n      <td>2</td>\n      <td>2000904</td>\n      <td>10</td>\n      <td>1</td>\n      <td>1</td>\n      <td>1</td>\n      <td>1</td>\n      <td>...</td>\n      <td>NaN</td>\n      <td>NaN</td>\n      <td>NaN</td>\n      <td>NaN</td>\n      <td>NaN</td>\n      <td>NaN</td>\n      <td>NaN</td>\n      <td>NaN</td>\n      <td>1.560233e+06</td>\n      <td>494.19986</td>\n    </tr>\n    <tr>\n      <th>274050</th>\n      <td>274050</td>\n      <td>2.670807e+11</td>\n      <td>94</td>\n      <td>2</td>\n      <td>2000904</td>\n      <td>10</td>\n      <td>2</td>\n      <td>1</td>\n      <td>2</td>\n      <td>2</td>\n      <td>...</td>\n      <td>1.0</td>\n      <td>0.0</td>\n      <td>1.0</td>\n      <td>2.0</td>\n      <td>NaN</td>\n      <td>3.0</td>\n      <td>1.0</td>\n      <td>NaN</td>\n      <td>1.560233e+06</td>\n      <td>494.19986</td>\n    </tr>\n  </tbody>\n</table>\n<p>274051 rows × 127 columns</p>\n</div>"
     },
     "metadata": {},
     "execution_count": 7
    }
   ],
   "source": [
    "sus13_ki"
   ]
  },
  {
   "cell_type": "code",
   "execution_count": 9,
   "metadata": {},
   "outputs": [
    {
     "output_type": "execute_result",
     "data": {
      "text/plain": [
       "    LAYOUT SUSENAS KOR INDIVIDU TRW.1 TAHUN 2013 Unnamed: 1  \\\n",
       "0                                            NaN        NaN   \n",
       "1                                            NaN        NaN   \n",
       "2                                       Variable   Position   \n",
       "3                                           URUT          1   \n",
       "4                                           B1R1          2   \n",
       "..                                           ...        ...   \n",
       "126                                        B5R38        124   \n",
       "127                                       B5R38L        125   \n",
       "128                                      EXP_CAP        126   \n",
       "129                                        WEIND        127   \n",
       "130                Variables in the working file        NaN   \n",
       "\n",
       "                        Unnamed: 2  \n",
       "0                              NaN  \n",
       "1                              NaN  \n",
       "2                            Label  \n",
       "3       VARIABEL UNTUK GABUNG DATA  \n",
       "4                         Provinsi  \n",
       "..                             ...  \n",
       "126      Alasan utama tidak ber KB  \n",
       "127                        Lainnya  \n",
       "128  Pengeluaran perkapita sebulan  \n",
       "129             Penimbang penduduk  \n",
       "130                            NaN  \n",
       "\n",
       "[131 rows x 3 columns]"
      ],
      "text/html": "<div>\n<style scoped>\n    .dataframe tbody tr th:only-of-type {\n        vertical-align: middle;\n    }\n\n    .dataframe tbody tr th {\n        vertical-align: top;\n    }\n\n    .dataframe thead th {\n        text-align: right;\n    }\n</style>\n<table border=\"1\" class=\"dataframe\">\n  <thead>\n    <tr style=\"text-align: right;\">\n      <th></th>\n      <th>LAYOUT SUSENAS KOR INDIVIDU TRW.1 TAHUN 2013</th>\n      <th>Unnamed: 1</th>\n      <th>Unnamed: 2</th>\n    </tr>\n  </thead>\n  <tbody>\n    <tr>\n      <th>0</th>\n      <td>NaN</td>\n      <td>NaN</td>\n      <td>NaN</td>\n    </tr>\n    <tr>\n      <th>1</th>\n      <td>NaN</td>\n      <td>NaN</td>\n      <td>NaN</td>\n    </tr>\n    <tr>\n      <th>2</th>\n      <td>Variable</td>\n      <td>Position</td>\n      <td>Label</td>\n    </tr>\n    <tr>\n      <th>3</th>\n      <td>URUT</td>\n      <td>1</td>\n      <td>VARIABEL UNTUK GABUNG DATA</td>\n    </tr>\n    <tr>\n      <th>4</th>\n      <td>B1R1</td>\n      <td>2</td>\n      <td>Provinsi</td>\n    </tr>\n    <tr>\n      <th>...</th>\n      <td>...</td>\n      <td>...</td>\n      <td>...</td>\n    </tr>\n    <tr>\n      <th>126</th>\n      <td>B5R38</td>\n      <td>124</td>\n      <td>Alasan utama tidak ber KB</td>\n    </tr>\n    <tr>\n      <th>127</th>\n      <td>B5R38L</td>\n      <td>125</td>\n      <td>Lainnya</td>\n    </tr>\n    <tr>\n      <th>128</th>\n      <td>EXP_CAP</td>\n      <td>126</td>\n      <td>Pengeluaran perkapita sebulan</td>\n    </tr>\n    <tr>\n      <th>129</th>\n      <td>WEIND</td>\n      <td>127</td>\n      <td>Penimbang penduduk</td>\n    </tr>\n    <tr>\n      <th>130</th>\n      <td>Variables in the working file</td>\n      <td>NaN</td>\n      <td>NaN</td>\n    </tr>\n  </tbody>\n</table>\n<p>131 rows × 3 columns</p>\n</div>"
     },
     "metadata": {},
     "execution_count": 9
    }
   ],
   "source": [
    "var_ki13"
   ]
  },
  {
   "cell_type": "code",
   "execution_count": 10,
   "metadata": {},
   "outputs": [
    {
     "output_type": "execute_result",
     "data": {
      "text/plain": [
       "    LAYOUT SUSENAS KOR INDIVIDU TRW.1 TAHUN 2013 Unnamed: 1  \\\n",
       "0                                            NaN        NaN   \n",
       "1                                            NaN        NaN   \n",
       "2                                       Variable   Position   \n",
       "3                                           B1R1         11   \n",
       "4                                            NaN         12   \n",
       "..                                           ...        ...   \n",
       "337                                          NaN          2   \n",
       "338                                          NaN          3   \n",
       "339                                          NaN          4   \n",
       "340                                          NaN          5   \n",
       "341                                          NaN          6   \n",
       "\n",
       "                          Unnamed: 2  \n",
       "0                                NaN  \n",
       "1                                NaN  \n",
       "2                              Label  \n",
       "3           Nanggroe Aceh Darussalam  \n",
       "4                     Sumatera Utara  \n",
       "..                               ...  \n",
       "337                  Tidak setuju KB  \n",
       "338          Tidak tahu alat/cara KB  \n",
       "339  Takut efek samping alat/cara KB  \n",
       "340                       Tidak tahu  \n",
       "341                          Lainnya  \n",
       "\n",
       "[342 rows x 3 columns]"
      ],
      "text/html": "<div>\n<style scoped>\n    .dataframe tbody tr th:only-of-type {\n        vertical-align: middle;\n    }\n\n    .dataframe tbody tr th {\n        vertical-align: top;\n    }\n\n    .dataframe thead th {\n        text-align: right;\n    }\n</style>\n<table border=\"1\" class=\"dataframe\">\n  <thead>\n    <tr style=\"text-align: right;\">\n      <th></th>\n      <th>LAYOUT SUSENAS KOR INDIVIDU TRW.1 TAHUN 2013</th>\n      <th>Unnamed: 1</th>\n      <th>Unnamed: 2</th>\n    </tr>\n  </thead>\n  <tbody>\n    <tr>\n      <th>0</th>\n      <td>NaN</td>\n      <td>NaN</td>\n      <td>NaN</td>\n    </tr>\n    <tr>\n      <th>1</th>\n      <td>NaN</td>\n      <td>NaN</td>\n      <td>NaN</td>\n    </tr>\n    <tr>\n      <th>2</th>\n      <td>Variable</td>\n      <td>Position</td>\n      <td>Label</td>\n    </tr>\n    <tr>\n      <th>3</th>\n      <td>B1R1</td>\n      <td>11</td>\n      <td>Nanggroe Aceh Darussalam</td>\n    </tr>\n    <tr>\n      <th>4</th>\n      <td>NaN</td>\n      <td>12</td>\n      <td>Sumatera Utara</td>\n    </tr>\n    <tr>\n      <th>...</th>\n      <td>...</td>\n      <td>...</td>\n      <td>...</td>\n    </tr>\n    <tr>\n      <th>337</th>\n      <td>NaN</td>\n      <td>2</td>\n      <td>Tidak setuju KB</td>\n    </tr>\n    <tr>\n      <th>338</th>\n      <td>NaN</td>\n      <td>3</td>\n      <td>Tidak tahu alat/cara KB</td>\n    </tr>\n    <tr>\n      <th>339</th>\n      <td>NaN</td>\n      <td>4</td>\n      <td>Takut efek samping alat/cara KB</td>\n    </tr>\n    <tr>\n      <th>340</th>\n      <td>NaN</td>\n      <td>5</td>\n      <td>Tidak tahu</td>\n    </tr>\n    <tr>\n      <th>341</th>\n      <td>NaN</td>\n      <td>6</td>\n      <td>Lainnya</td>\n    </tr>\n  </tbody>\n</table>\n<p>342 rows × 3 columns</p>\n</div>"
     },
     "metadata": {},
     "execution_count": 10
    }
   ],
   "source": [
    "label_ki13"
   ]
  },
  {
   "cell_type": "markdown",
   "metadata": {},
   "source": [
    "## Formatting the Dataset"
   ]
  },
  {
   "cell_type": "code",
   "execution_count": 11,
   "metadata": {},
   "outputs": [],
   "source": [
    "#2013\n",
    "df13=sus13_ki.copy()\n",
    "var13=var_ki13.copy()\n",
    "label_13=label_ki13.copy()"
   ]
  },
  {
   "cell_type": "code",
   "execution_count": null,
   "metadata": {},
   "outputs": [],
   "source": []
  }
 ],
 "metadata": {
  "kernelspec": {
   "name": "python3",
   "display_name": "Python 3.8.5 64-bit ('zora': virtualenv)"
  },
  "language_info": {
   "codemirror_mode": {
    "name": "ipython",
    "version": 3
   },
   "file_extension": ".py",
   "mimetype": "text/x-python",
   "name": "python",
   "nbconvert_exporter": "python",
   "pygments_lexer": "ipython3",
   "version": "3.8.5"
  },
  "interpreter": {
   "hash": "314ea981c085db46ccef735dba59695dbecece85a3e4aa8984de4261ea0b2923"
  }
 },
 "nbformat": 4,
 "nbformat_minor": 4
}